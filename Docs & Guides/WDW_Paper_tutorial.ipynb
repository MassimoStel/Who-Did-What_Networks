{
  "nbformat": 4,
  "nbformat_minor": 0,
  "metadata": {
    "colab": {
      "provenance": []
    },
    "kernelspec": {
      "name": "python3",
      "display_name": "Python 3"
    },
    "language_info": {
      "name": "python"
    }
  },
  "cells": [
    {
      "cell_type": "markdown",
      "source": [
        "\n",
        "# Who-Did-What Networks (WDWN) Tutorial\n",
        "This tutorial will guide you through the process of using the Who-Did-What (WDW) network framework to analyze textual data. WDW networks provide a unique way to narrative analysis by focusing on the actors (WHO), actions (DID), and consequences (WHAT) portrayed in texts, constructing a multilayer semantic-syntactic network.\n",
        "\n",
        "The WDW framework, available at https://github.com/MassimoStel/Who-Did-What_Networks, helps uncover narratives by examining actors (WHO), actions (DID), and consequences (WHAT) in text.\n",
        "\n",
        "For additional guidance, you can refer to the official WDW library documentation:\n",
        "\n",
        "[Starting Guide.ipynb](https://github.com/MassimoStel/Who-Did-What_Networks/blob/main/Docs%20%26%20Guides/Starting%20Guide.ipynb)\n",
        "\n",
        "[Analyzing WDW.ipynb](https://github.com/MassimoStel/Who-Did-What_Networks/blob/main/Docs%20%26%20Guides/Analyzing%20WDW.ipynb)\n",
        "\n",
        "\n",
        "## 1. Introduction to WDWN.\n",
        "WDWN are a framework designed to analyze narratives core components: actors, actions, and consequences. These semantic/syntactic multilayer networks consist of three primary layers:\n",
        "\n",
        "* Subjects/Actors (WHO): The entities performing actions.\n",
        "* Objects/Actions (DID): The actions being performed.\n",
        "* Verbs/Consequences (WHAT): The verbs connecting subjects to objects, often indicating consequences.\n",
        "\n",
        "## 2. Setting Up Your Environment\n",
        "Before we begin, ensure you have the necessary libraries installed.\n",
        "\n",
        "### 2.1. Install `Who-Did-What_Networks` library"
      ],
      "metadata": {
        "id": "bOrBKjHw2m28"
      }
    },
    {
      "cell_type": "code",
      "source": [
        "!pip install -q git+https://github.com/MassimoStel/Who-Did-What_Networks"
      ],
      "metadata": {
        "id": "lTF9qahaII2C"
      },
      "execution_count": null,
      "outputs": []
    },
    {
      "cell_type": "markdown",
      "source": [
        "### 2.2. Import necessary modules"
      ],
      "metadata": {
        "id": "mTPKvwM283Wp"
      }
    },
    {
      "cell_type": "code",
      "source": [
        "import whodidwhat as wdw\n",
        "import whodidwhat.analytics as wdw_analytics"
      ],
      "metadata": {
        "id": "IGpGyPqBIIxk"
      },
      "execution_count": null,
      "outputs": []
    },
    {
      "cell_type": "markdown",
      "source": [
        "## 3. Basic example\n",
        "\n",
        "As a minimal example, we will process the sentence:  \n",
        "> \"Alex and Ben care for animals and love hiking through national parks. However, they dislike shopping malls because they are overwhelming and chaotic.\"\n",
        "\n",
        "We will load the text, extract the SVOs and plot the WDW graph."
      ],
      "metadata": {
        "id": "xbK31r7rCtvH"
      }
    },
    {
      "cell_type": "code",
      "source": [
        "text = \"\"\"Alex and Ben care for animals and love hiking through national parks. However, they dislike shopping malls because they are overwhelming and chaotic.\"\"\""
      ],
      "metadata": {
        "id": "E83_KKYaIIuu"
      },
      "execution_count": null,
      "outputs": []
    },
    {
      "cell_type": "code",
      "source": [
        "svo = wdw.extract_svos_from_text(text)"
      ],
      "metadata": {
        "id": "s4zv-454IIsv"
      },
      "execution_count": null,
      "outputs": []
    },
    {
      "cell_type": "code",
      "source": [
        "display(svo)"
      ],
      "metadata": {
        "id": "n1ZnxoLBIIrE"
      },
      "execution_count": null,
      "outputs": []
    },
    {
      "cell_type": "code",
      "source": [
        "wdw.plot_svo_graph(svo)"
      ],
      "metadata": {
        "id": "ddzWhDQ2JEYc"
      },
      "execution_count": null,
      "outputs": []
    },
    {
      "cell_type": "markdown",
      "source": [
        "Part-of-speech tagging is determined by an AI model (specifically, spaCy) analyzing each sentence in a text. Inter-layer connections are established using a rule-based approach applied to the syntactic parsing provided by spaCy. Intra-layer connections are semantic, established only if two words are synonyms (e.g., \"father\" and \"dad\").\n",
        "\n",
        "Like in textual forma mentis networks, individual concepts are labeled as 'positive' (cyan), 'negative' (red), and 'neutral' (gray) according to **Vader** Sentiment Analysis. Inter-layer paths indicate 'who did what' – i.e., which actions and which consequences were portrayed by specific agents in texts. While tools like EmoAtlas provide general results about the overall context of biased perceptions, WDW networks complement TFMNs by offering a granular focus on actors, actions, and consequences.\n"
      ],
      "metadata": {
        "id": "XQm6vZXdCpOX"
      }
    }
  ]
}