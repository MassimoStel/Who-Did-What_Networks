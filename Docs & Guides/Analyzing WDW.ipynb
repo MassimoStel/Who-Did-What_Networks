{
 "cells": [
  {
   "cell_type": "code",
   "execution_count": null,
   "metadata": {
    "vscode": {
     "languageId": "plaintext"
    }
   },
   "outputs": [],
   "source": [
    "# TO DO\n",
    "\n",
    "Other Functions\n",
    "export_hypergraphs(df)\n",
    "export_subj(df)\n",
    "export_obj(df)\n",
    "export_verb(df)\n",
    "merge_svo_dataframes\n",
    "degree_centrality\n",
    "\n",
    "filter_svo_dataframe_by_wdw\n",
    "wdw_weighted_degree_centrality\n",
    "wdw_degree_centrality_overview"
   ]
  }
 ],
 "metadata": {
  "language_info": {
   "name": "python"
  }
 },
 "nbformat": 4,
 "nbformat_minor": 2
}
