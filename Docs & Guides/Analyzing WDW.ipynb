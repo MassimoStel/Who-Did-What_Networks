{
 "cells": [
  {
   "cell_type": "markdown",
   "metadata": {},
   "source": [
    "# TO DO\n",
    "\n",
    "Other Functions\n",
    "export_hypergraphs(df)\n",
    "export_subj(df)\n",
    "export_obj(df)\n",
    "export_verb(df)"
   ]
  }
 ],
 "metadata": {
  "language_info": {
   "name": "python"
  }
 },
 "nbformat": 4,
 "nbformat_minor": 2
}
