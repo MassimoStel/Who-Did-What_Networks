{
 "cells": [
  {
   "cell_type": "markdown",
   "metadata": {},
   "source": [
    "Advanced Usage\n",
    "Filtering by Subject or Object\n",
    "\n",
    "python\n",
    "Copy code\n",
    "plot_svo_graph(svos, subject_filter='John')\n",
    "Exporting Hypergraphs\n",
    "\n",
    "python\n",
    "Copy code\n",
    "hypergraphs = export_hypergraphs(svos)\n",
    "print(hypergraphs)\n"
   ]
  },
  {
   "cell_type": "code",
   "execution_count": null,
   "metadata": {
    "vscode": {
     "languageId": "plaintext"
    }
   },
   "outputs": [],
   "source": [
    "plot_svo_graph\n",
    "Visualizes the SVO relationships in a graph.\n",
    "\n",
    "Parameters:\n",
    "\n",
    "df (DataFrame): The DataFrame containing SVO data.\n",
    "subject_filter (str): (Optional) Filter graph by a specific subject.\n",
    "object_filter (str): (Optional) Filter graph by a specific object.\n",
    "Example:\n",
    "\n",
    "python\n",
    "Copy code\n",
    "plot_svo_graph(svos, subject_filter='Alice')\n",
    "Other Functions\n",
    "export_hypergraphs(df)\n",
    "export_subj(df)\n",
    "export_obj(df)\n",
    "export_verb(df)"
   ]
  }
 ],
 "metadata": {
  "language_info": {
   "name": "python"
  }
 },
 "nbformat": 4,
 "nbformat_minor": 2
}
